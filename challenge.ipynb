{
 "cells": [
  {
   "cell_type": "code",
   "execution_count": 2,
   "metadata": {},
   "outputs": [],
   "source": [
    "import sqlalchemy\n",
    "import requests\n",
    "import json\n",
    "\n",
    "response_API = requests.get('https://restcountries.com/v3.1/all')\n",
    "#print(response_API.status_code)\n",
    "data = json.loads(response_API.text)"
   ]
  },
  {
   "cell_type": "code",
   "execution_count": 16,
   "metadata": {},
   "outputs": [
    {
     "name": "stdout",
     "output_type": "stream",
     "text": [
      "{\n",
      "  \"name\": {\n",
      "    \"common\": \"Jordan\",\n",
      "    \"official\": \"Hashemite Kingdom of Jordan\",\n",
      "    \"nativeName\": {\n",
      "      \"ara\": {\n",
      "        \"official\": \"\\u0627\\u0644\\u0645\\u0645\\u0644\\u0643\\u0629 \\u0627\\u0644\\u0623\\u0631\\u062f\\u0646\\u064a\\u0629 \\u0627\\u0644\\u0647\\u0627\\u0634\\u0645\\u064a\\u0629\",\n",
      "        \"common\": \"\\u0627\\u0644\\u0623\\u0631\\u062f\\u0646\"\n",
      "      }\n",
      "    }\n",
      "  },\n",
      "  \"tld\": [\n",
      "    \".jo\",\n",
      "    \"\\u0627\\u0644\\u0627\\u0631\\u062f\\u0646.\"\n",
      "  ],\n",
      "  \"cca2\": \"JO\",\n",
      "  \"ccn3\": \"400\",\n",
      "  \"cca3\": \"JOR\",\n",
      "  \"cioc\": \"JOR\",\n",
      "  \"independent\": true,\n",
      "  \"status\": \"officially-assigned\",\n",
      "  \"unMember\": true,\n",
      "  \"currencies\": {\n",
      "    \"JOD\": {\n",
      "      \"name\": \"Jordanian dinar\",\n",
      "      \"symbol\": \"\\u062f.\\u0627\"\n",
      "    }\n",
      "  },\n",
      "  \"idd\": {\n",
      "    \"root\": \"+9\",\n",
      "    \"suffixes\": [\n",
      "      \"62\"\n",
      "    ]\n",
      "  },\n",
      "  \"capital\": [\n",
      "    \"Amman\"\n",
      "  ],\n",
      "  \"altSpellings\": [\n",
      "    \"JO\",\n",
      "    \"Hashemite Kingdom of Jordan\",\n",
      "    \"al-Mamlakah al-Urdun\\u012byah al-H\\u0101shim\\u012byah\"\n",
      "  ],\n",
      "  \"region\": \"Asia\",\n",
      "  \"subregion\": \"Western Asia\",\n",
      "  \"languages\": {\n",
      "    \"ara\": \"Arabic\"\n",
      "  },\n",
      "  \"translations\": {\n",
      "    \"ara\": {\n",
      "      \"official\": \"\\u0627\\u0644\\u0645\\u0645\\u0644\\u0643\\u0629 \\u0627\\u0644\\u0623\\u0631\\u062f\\u0646\\u064a\\u0629 \\u0627\\u0644\\u0647\\u0627\\u0634\\u0645\\u064a\\u0629\",\n",
      "      \"common\": \"\\u0627\\u0644\\u0623\\u0631\\u062f\\u0646\"\n",
      "    },\n",
      "    \"bre\": {\n",
      "      \"official\": \"Rouantelezh hachemit Jordania\",\n",
      "      \"common\": \"Jordania\"\n",
      "    },\n",
      "    \"ces\": {\n",
      "      \"official\": \"Jord\\u00e1nsk\\u00e9 h\\u00e1\\u0161imovsk\\u00e9 kr\\u00e1lovstv\\u00ed\",\n",
      "      \"common\": \"Jord\\u00e1nsko\"\n",
      "    },\n",
      "    \"cym\": {\n",
      "      \"official\": \"Hashemite Kingdom of Jordan\",\n",
      "      \"common\": \"Jordan\"\n",
      "    },\n",
      "    \"deu\": {\n",
      "      \"official\": \"Haschemitisches K\\u00f6nigreich Jordanien\",\n",
      "      \"common\": \"Jordanien\"\n",
      "    },\n",
      "    \"est\": {\n",
      "      \"official\": \"Jordaania Ha\\u0161imiidi Kuningriik\",\n",
      "      \"common\": \"Jordaania\"\n",
      "    },\n",
      "    \"fin\": {\n",
      "      \"official\": \"Jordanian ha\\u0161emiittinen kunigaskunta\",\n",
      "      \"common\": \"Jordania\"\n",
      "    },\n",
      "    \"fra\": {\n",
      "      \"official\": \"Royaume hach\\u00e9mite de Jordanie\",\n",
      "      \"common\": \"Jordanie\"\n",
      "    },\n",
      "    \"hrv\": {\n",
      "      \"official\": \"Ha\\u0161emitske Kraljevine Jordan\",\n",
      "      \"common\": \"Jordan\"\n",
      "    },\n",
      "    \"hun\": {\n",
      "      \"official\": \"Jord\\u00e1nia\",\n",
      "      \"common\": \"Jord\\u00e1nia\"\n",
      "    },\n",
      "    \"ita\": {\n",
      "      \"official\": \"Regno hascemita di Giordania\",\n",
      "      \"common\": \"Giordania\"\n",
      "    },\n",
      "    \"jpn\": {\n",
      "      \"official\": \"\\u30e8\\u30eb\\u30c0\\u30f3\\u00b7\\u30cf\\u30b7\\u30df\\u30c6\\u738b\\u56fd\",\n",
      "      \"common\": \"\\u30e8\\u30eb\\u30c0\\u30f3\"\n",
      "    },\n",
      "    \"kor\": {\n",
      "      \"official\": \"\\uc694\\ub974\\ub2e8 \\ud558\\uc2ec \\uc655\\uad6d\",\n",
      "      \"common\": \"\\uc694\\ub974\\ub2e8\"\n",
      "    },\n",
      "    \"nld\": {\n",
      "      \"official\": \"Hasjemitisch Koninkrijk Jordani\\u00eb\",\n",
      "      \"common\": \"Jordani\\u00eb\"\n",
      "    },\n",
      "    \"per\": {\n",
      "      \"official\": \"\\u067e\\u0627\\u062f\\u0634\\u0627\\u0647\\u06cc \\u0627\\u064f\\u0631\\u062f\\u064f\\u0646 \\u0647\\u0627\\u0634\\u0645\\u06cc\",\n",
      "      \"common\": \"\\u0627\\u0631\\u062f\\u0646\"\n",
      "    },\n",
      "    \"pol\": {\n",
      "      \"official\": \"Jorda\\u0144skie Kr\\u00f3lestwo Haszymidzkie\",\n",
      "      \"common\": \"Jordania\"\n",
      "    },\n",
      "    \"por\": {\n",
      "      \"official\": \"Reino Hachemita da Jord\\u00e2nia\",\n",
      "      \"common\": \"Jord\\u00e2nia\"\n",
      "    },\n",
      "    \"rus\": {\n",
      "      \"official\": \"\\u0418\\u043e\\u0440\\u0434\\u0430\\u043d\\u0441\\u043a\\u043e\\u0433\\u043e \\u0425\\u0430\\u0448\\u0438\\u043c\\u0438\\u0442\\u0441\\u043a\\u043e\\u0433\\u043e \\u041a\\u043e\\u0440\\u043e\\u043b\\u0435\\u0432\\u0441\\u0442\\u0432\\u0430\",\n",
      "      \"common\": \"\\u0418\\u043e\\u0440\\u0434\\u0430\\u043d\\u0438\\u044f\"\n",
      "    },\n",
      "    \"slk\": {\n",
      "      \"official\": \"Jord\\u00e1nske h\\u00e1\\u0161imovsk\\u00e9 kr\\u00e1\\u013eovstvo\",\n",
      "      \"common\": \"Jord\\u00e1nsko\"\n",
      "    },\n",
      "    \"spa\": {\n",
      "      \"official\": \"Reino Hachemita de Jordania\",\n",
      "      \"common\": \"Jordania\"\n",
      "    },\n",
      "    \"srp\": {\n",
      "      \"official\": \"\\u0425\\u0430\\u0448\\u0435\\u043c\\u0438\\u0442\\u0441\\u043a\\u0430 \\u041a\\u0440\\u0430\\u0459\\u0435\\u0432\\u0438\\u043d\\u0430 \\u0408\\u043e\\u0440\\u0434\\u0430\\u043d\",\n",
      "      \"common\": \"\\u0408\\u043e\\u0440\\u0434\\u0430\\u043d\"\n",
      "    },\n",
      "    \"swe\": {\n",
      "      \"official\": \"Hashimitiska kungad\\u00f6met Jordanien\",\n",
      "      \"common\": \"Jordanien\"\n",
      "    },\n",
      "    \"tur\": {\n",
      "      \"official\": \"\\u00dcrd\\u00fcn H\\u00e2\\u015fimi Krall\\u0131\\u011f\\u0131\",\n",
      "      \"common\": \"\\u00dcrd\\u00fcn\"\n",
      "    },\n",
      "    \"urd\": {\n",
      "      \"official\": \"\\u06be\\u0627\\u0634\\u0645\\u06cc \\u0645\\u0645\\u0644\\u06a9\\u062a\\u0650 \\u0627\\u0631\\u062f\\u0646\",\n",
      "      \"common\": \"\\u0627\\u0631\\u062f\\u0646\"\n",
      "    },\n",
      "    \"zho\": {\n",
      "      \"official\": \"\\u7ea6\\u65e6\\u54c8\\u5e0c\\u59c6\\u738b\\u56fd\",\n",
      "      \"common\": \"\\u7ea6\\u65e6\"\n",
      "    }\n",
      "  },\n",
      "  \"latlng\": [\n",
      "    31.0,\n",
      "    36.0\n",
      "  ],\n",
      "  \"landlocked\": false,\n",
      "  \"borders\": [\n",
      "    \"IRQ\",\n",
      "    \"ISR\",\n",
      "    \"PSE\",\n",
      "    \"SAU\",\n",
      "    \"SYR\"\n",
      "  ],\n",
      "  \"area\": 89342.0,\n",
      "  \"demonyms\": {\n",
      "    \"eng\": {\n",
      "      \"f\": \"Jordanian\",\n",
      "      \"m\": \"Jordanian\"\n",
      "    },\n",
      "    \"fra\": {\n",
      "      \"f\": \"Jordanienne\",\n",
      "      \"m\": \"Jordanien\"\n",
      "    }\n",
      "  },\n",
      "  \"flag\": \"\\ud83c\\uddef\\ud83c\\uddf4\",\n",
      "  \"maps\": {\n",
      "    \"googleMaps\": \"https://goo.gl/maps/ko1dzSDKg8Gsi9A98\",\n",
      "    \"openStreetMaps\": \"https://www.openstreetmap.org/relation/184818\"\n",
      "  },\n",
      "  \"population\": 10203140,\n",
      "  \"gini\": {\n",
      "    \"2010\": 33.7\n",
      "  },\n",
      "  \"fifa\": \"JOR\",\n",
      "  \"car\": {\n",
      "    \"signs\": [\n",
      "      \"HKJ\"\n",
      "    ],\n",
      "    \"side\": \"right\"\n",
      "  },\n",
      "  \"timezones\": [\n",
      "    \"UTC+03:00\"\n",
      "  ],\n",
      "  \"continents\": [\n",
      "    \"Asia\"\n",
      "  ],\n",
      "  \"flags\": {\n",
      "    \"png\": \"https://flagcdn.com/w320/jo.png\",\n",
      "    \"svg\": \"https://flagcdn.com/jo.svg\",\n",
      "    \"alt\": \"The flag of Jordan is composed of three equal horizontal bands of black, white and green, with a red isosceles triangle superimposed on the hoist side of the field. This triangle has its base on the hoist end, spans about half the width of the field and bears a small seven-pointed white star at its center.\"\n",
      "  },\n",
      "  \"coatOfArms\": {\n",
      "    \"png\": \"https://mainfacts.com/media/images/coats_of_arms/jo.png\",\n",
      "    \"svg\": \"https://mainfacts.com/media/images/coats_of_arms/jo.svg\"\n",
      "  },\n",
      "  \"startOfWeek\": \"sunday\",\n",
      "  \"capitalInfo\": {\n",
      "    \"latlng\": [\n",
      "      31.95,\n",
      "      35.93\n",
      "    ]\n",
      "  },\n",
      "  \"postalCode\": {\n",
      "    \"format\": \"#####\",\n",
      "    \"regex\": \"^(\\\\d{5})$\"\n",
      "  }\n",
      "}\n"
     ]
    }
   ],
   "source": [
    "json_formatted_str = json.dumps(data[0], indent=2)\n",
    "\n",
    "print(json_formatted_str)"
   ]
  },
  {
   "cell_type": "code",
   "execution_count": 19,
   "metadata": {},
   "outputs": [
    {
     "data": {
      "text/plain": [
       "dict_keys(['name', 'tld', 'cca2', 'ccn3', 'cca3', 'cioc', 'independent', 'status', 'unMember', 'currencies', 'idd', 'capital', 'altSpellings', 'region', 'subregion', 'languages', 'translations', 'latlng', 'landlocked', 'borders', 'area', 'demonyms', 'flag', 'maps', 'population', 'gini', 'fifa', 'car', 'timezones', 'continents', 'flags', 'coatOfArms', 'startOfWeek', 'capitalInfo', 'postalCode'])"
      ]
     },
     "execution_count": 19,
     "metadata": {},
     "output_type": "execute_result"
    }
   ],
   "source": [
    "data[0].keys()"
   ]
  },
  {
   "cell_type": "code",
   "execution_count": 3,
   "metadata": {},
   "outputs": [
    {
     "ename": "KeyError",
     "evalue": "'capital'",
     "output_type": "error",
     "traceback": [
      "\u001b[1;31m---------------------------------------------------------------------------\u001b[0m",
      "\u001b[1;31mKeyError\u001b[0m                                  Traceback (most recent call last)",
      "\u001b[1;32mc:\\Users\\zubik\\CODIGOS\\VEMO\\challenge.ipynb Cell 4\u001b[0m in \u001b[0;36m7\n\u001b[0;32m      <a href='vscode-notebook-cell:/c%3A/Users/zubik/CODIGOS/VEMO/challenge.ipynb#W3sZmlsZQ%3D%3D?line=1'>2</a>\u001b[0m myList \u001b[39m=\u001b[39m []\n\u001b[0;32m      <a href='vscode-notebook-cell:/c%3A/Users/zubik/CODIGOS/VEMO/challenge.ipynb#W3sZmlsZQ%3D%3D?line=2'>3</a>\u001b[0m \u001b[39mfor\u001b[39;00m country \u001b[39min\u001b[39;00m data:\n\u001b[0;32m      <a href='vscode-notebook-cell:/c%3A/Users/zubik/CODIGOS/VEMO/challenge.ipynb#W3sZmlsZQ%3D%3D?line=3'>4</a>\u001b[0m     myList\u001b[39m.\u001b[39mappend(\n\u001b[0;32m      <a href='vscode-notebook-cell:/c%3A/Users/zubik/CODIGOS/VEMO/challenge.ipynb#W3sZmlsZQ%3D%3D?line=4'>5</a>\u001b[0m         {\n\u001b[0;32m      <a href='vscode-notebook-cell:/c%3A/Users/zubik/CODIGOS/VEMO/challenge.ipynb#W3sZmlsZQ%3D%3D?line=5'>6</a>\u001b[0m             \u001b[39m'\u001b[39m\u001b[39mnombre\u001b[39m\u001b[39m'\u001b[39m : country[\u001b[39m'\u001b[39m\u001b[39mname\u001b[39m\u001b[39m'\u001b[39m][\u001b[39m'\u001b[39m\u001b[39mcommon\u001b[39m\u001b[39m'\u001b[39m],\n\u001b[1;32m----> <a href='vscode-notebook-cell:/c%3A/Users/zubik/CODIGOS/VEMO/challenge.ipynb#W3sZmlsZQ%3D%3D?line=6'>7</a>\u001b[0m             \u001b[39m'\u001b[39m\u001b[39mcapital\u001b[39m\u001b[39m'\u001b[39m : country[\u001b[39m'\u001b[39m\u001b[39mcapital\u001b[39m\u001b[39m'\u001b[39m], \n\u001b[0;32m      <a href='vscode-notebook-cell:/c%3A/Users/zubik/CODIGOS/VEMO/challenge.ipynb#W3sZmlsZQ%3D%3D?line=7'>8</a>\u001b[0m             \u001b[39m'\u001b[39m\u001b[39mpoblacion\u001b[39m\u001b[39m'\u001b[39m : country[\u001b[39m'\u001b[39m\u001b[39mpopulation\u001b[39m\u001b[39m'\u001b[39m],\n\u001b[0;32m      <a href='vscode-notebook-cell:/c%3A/Users/zubik/CODIGOS/VEMO/challenge.ipynb#W3sZmlsZQ%3D%3D?line=8'>9</a>\u001b[0m             \u001b[39m'\u001b[39m\u001b[39mbandera\u001b[39m\u001b[39m'\u001b[39m : country[\u001b[39m'\u001b[39m\u001b[39mflag\u001b[39m\u001b[39m'\u001b[39m]\n\u001b[0;32m     <a href='vscode-notebook-cell:/c%3A/Users/zubik/CODIGOS/VEMO/challenge.ipynb#W3sZmlsZQ%3D%3D?line=9'>10</a>\u001b[0m         }\n\u001b[0;32m     <a href='vscode-notebook-cell:/c%3A/Users/zubik/CODIGOS/VEMO/challenge.ipynb#W3sZmlsZQ%3D%3D?line=10'>11</a>\u001b[0m     )\n\u001b[0;32m     <a href='vscode-notebook-cell:/c%3A/Users/zubik/CODIGOS/VEMO/challenge.ipynb#W3sZmlsZQ%3D%3D?line=11'>12</a>\u001b[0m df \u001b[39m=\u001b[39m pd\u001b[39m.\u001b[39mDataFrame(myList)\n\u001b[0;32m     <a href='vscode-notebook-cell:/c%3A/Users/zubik/CODIGOS/VEMO/challenge.ipynb#W3sZmlsZQ%3D%3D?line=13'>14</a>\u001b[0m data[\u001b[39m0\u001b[39m][\u001b[39m'\u001b[39m\u001b[39mcapital\u001b[39m\u001b[39m'\u001b[39m]\n",
      "\u001b[1;31mKeyError\u001b[0m: 'capital'"
     ]
    }
   ],
   "source": [
    "import pandas\n",
    "\n",
    "def return_if_exists(country,field):\n",
    "    try:\n",
    "        return country[field]\n",
    "    except:\n",
    "        return None\n",
    "\n",
    "myList = []\n",
    "for country in data:\n",
    "    myList.append(\n",
    "        {\n",
    "            'nombre' : country['name']['common'],\n",
    "            'capital' : country['capital'], return_if_exists(country,'capital')\n",
    "            'poblacion' : lambda x: country['population'],\n",
    "            'bandera' : country['flag']\n",
    "        }\n",
    "    )\n",
    "df = pd.DataFrame(myList)\n",
    "\n",
    "data[0]['capital']"
   ]
  },
  {
   "cell_type": "code",
   "execution_count": 4,
   "metadata": {},
   "outputs": [
    {
     "data": {
      "text/plain": [
       "['Hamilton']"
      ]
     },
     "execution_count": 4,
     "metadata": {},
     "output_type": "execute_result"
    }
   ],
   "source": [
    "data[5]['capital']"
   ]
  },
  {
   "cell_type": "code",
   "execution_count": 5,
   "metadata": {},
   "outputs": [
    {
     "name": "stdout",
     "output_type": "stream",
     "text": [
      "paises sin currency: 0\n",
      "paises con multiples currencies: 0\n"
     ]
    }
   ],
   "source": [
    "paises_sin_currency = 0\n",
    "paises_multiples_currency =0\n",
    "for i in range(len(data)):\n",
    "    try:\n",
    "        if len(data[i]['continents']) != 1:   \n",
    "            paises_multiples_currency +=1\n",
    "    except:\n",
    "        paises_sin_currency +=1\n",
    "\n",
    "print(f'paises sin currency: {paises_sin_currency}')\n",
    "print(f'paises con multiples currencies: {paises_multiples_currency}')"
   ]
  },
  {
   "cell_type": "code",
   "execution_count": 71,
   "metadata": {},
   "outputs": [
    {
     "data": {
      "text/plain": [
       "'🇲🇱'"
      ]
     },
     "execution_count": 71,
     "metadata": {},
     "output_type": "execute_result"
    }
   ],
   "source": [
    "data[9]['flag']"
   ]
  },
  {
   "cell_type": "code",
   "execution_count": 82,
   "metadata": {},
   "outputs": [],
   "source": [
    "for i in range(len(data)):\n",
    "    if len(data[i]['flag']) != 2:\n",
    "        print(i)\n"
   ]
  },
  {
   "cell_type": "code",
   "execution_count": 84,
   "metadata": {},
   "outputs": [
    {
     "data": {
      "text/plain": [
       "['Moscow']"
      ]
     },
     "execution_count": 84,
     "metadata": {},
     "output_type": "execute_result"
    }
   ],
   "source": [
    "data[150]['capital']"
   ]
  },
  {
   "cell_type": "code",
   "execution_count": 75,
   "metadata": {},
   "outputs": [
    {
     "data": {
      "text/plain": [
       "{'name': {'common': 'Russia',\n",
       "  'official': 'Russian Federation',\n",
       "  'nativeName': {'rus': {'official': 'Российская Федерация',\n",
       "    'common': 'Россия'}}},\n",
       " 'tld': ['.ru', '.su', '.рф'],\n",
       " 'cca2': 'RU',\n",
       " 'ccn3': '643',\n",
       " 'cca3': 'RUS',\n",
       " 'cioc': 'RUS',\n",
       " 'independent': True,\n",
       " 'status': 'officially-assigned',\n",
       " 'unMember': True,\n",
       " 'currencies': {'RUB': {'name': 'Russian ruble', 'symbol': '₽'}},\n",
       " 'idd': {'root': '+7', 'suffixes': ['3', '4', '5', '8', '9']},\n",
       " 'capital': ['Moscow'],\n",
       " 'altSpellings': ['RU', 'Russian Federation', 'Российская Федерация'],\n",
       " 'region': 'Europe',\n",
       " 'subregion': 'Eastern Europe',\n",
       " 'languages': {'rus': 'Russian'},\n",
       " 'translations': {'ara': {'official': 'روسيا الاتحادية', 'common': 'روسيا'},\n",
       "  'bre': {'official': 'Kevread Rusia', 'common': 'Rusia'},\n",
       "  'ces': {'official': 'Ruská federace', 'common': 'Rusko'},\n",
       "  'cym': {'official': 'Russian Federation', 'common': 'Russia'},\n",
       "  'deu': {'official': 'Russische Föderation', 'common': 'Russland'},\n",
       "  'est': {'official': 'Venemaa Föderatsioon', 'common': 'Venemaa'},\n",
       "  'fin': {'official': 'Venäjän federaatio', 'common': 'Venäjä'},\n",
       "  'fra': {'official': 'Fédération de Russie', 'common': 'Russie'},\n",
       "  'hrv': {'official': 'Ruska Federacija', 'common': 'Rusija'},\n",
       "  'hun': {'official': 'Oroszországi Föderáció', 'common': 'Oroszország'},\n",
       "  'ita': {'official': 'Federazione russa', 'common': 'Russia'},\n",
       "  'jpn': {'official': 'ロシア連邦', 'common': 'ロシア連邦'},\n",
       "  'kor': {'official': '러시아 연방', 'common': '러시아'},\n",
       "  'nld': {'official': 'Russische Federatie', 'common': 'Rusland'},\n",
       "  'per': {'official': 'فدراسیون روسیه', 'common': 'روسیه'},\n",
       "  'pol': {'official': 'Federacja Rosyjska', 'common': 'Rosja'},\n",
       "  'por': {'official': 'Federação Russa', 'common': 'Rússia'},\n",
       "  'rus': {'official': 'Российская Федерация', 'common': 'Россия'},\n",
       "  'slk': {'official': 'Ruská federácia', 'common': 'Rusko'},\n",
       "  'spa': {'official': 'Federación de Rusia', 'common': 'Rusia'},\n",
       "  'srp': {'official': 'Руска Федерација', 'common': 'Русија'},\n",
       "  'swe': {'official': 'Ryska federationen', 'common': 'Ryssland'},\n",
       "  'tur': {'official': 'Rusya Federasyonu', 'common': 'Rusya'},\n",
       "  'urd': {'official': 'روسی وفاق', 'common': 'روس'},\n",
       "  'zho': {'official': '俄罗斯联邦', 'common': '俄罗斯'}},\n",
       " 'latlng': [60.0, 100.0],\n",
       " 'landlocked': False,\n",
       " 'borders': ['AZE',\n",
       "  'BLR',\n",
       "  'CHN',\n",
       "  'EST',\n",
       "  'FIN',\n",
       "  'GEO',\n",
       "  'KAZ',\n",
       "  'PRK',\n",
       "  'LVA',\n",
       "  'LTU',\n",
       "  'MNG',\n",
       "  'NOR',\n",
       "  'POL',\n",
       "  'UKR'],\n",
       " 'area': 17098242.0,\n",
       " 'demonyms': {'eng': {'f': 'Russian', 'm': 'Russian'},\n",
       "  'fra': {'f': 'Russe', 'm': 'Russe'}},\n",
       " 'flag': '🇷🇺',\n",
       " 'maps': {'googleMaps': 'https://goo.gl/maps/4F4PpDhGJgVvLby57',\n",
       "  'openStreetMaps': 'https://www.openstreetmap.org/relation/60189#map=3/65.15/105.29'},\n",
       " 'population': 144104080,\n",
       " 'gini': {'2018': 37.5},\n",
       " 'fifa': 'RUS',\n",
       " 'car': {'signs': ['RUS'], 'side': 'right'},\n",
       " 'timezones': ['UTC+03:00',\n",
       "  'UTC+04:00',\n",
       "  'UTC+06:00',\n",
       "  'UTC+07:00',\n",
       "  'UTC+08:00',\n",
       "  'UTC+09:00',\n",
       "  'UTC+10:00',\n",
       "  'UTC+11:00',\n",
       "  'UTC+12:00'],\n",
       " 'continents': ['Europe'],\n",
       " 'flags': {'png': 'https://flagcdn.com/w320/ru.png',\n",
       "  'svg': 'https://flagcdn.com/ru.svg',\n",
       "  'alt': 'The flag of Russia is composed of three equal horizontal bands of white, blue and red.'},\n",
       " 'coatOfArms': {'png': 'https://mainfacts.com/media/images/coats_of_arms/ru.png',\n",
       "  'svg': 'https://mainfacts.com/media/images/coats_of_arms/ru.svg'},\n",
       " 'startOfWeek': 'monday',\n",
       " 'capitalInfo': {'latlng': [55.75, 37.6]},\n",
       " 'postalCode': {'format': '######', 'regex': '^(\\\\d{6})$'}}"
      ]
     },
     "execution_count": 75,
     "metadata": {},
     "output_type": "execute_result"
    }
   ],
   "source": [
    "data[150]"
   ]
  },
  {
   "cell_type": "code",
   "execution_count": null,
   "metadata": {},
   "outputs": [],
   "source": []
  }
 ],
 "metadata": {
  "kernelspec": {
   "display_name": "vemoenv",
   "language": "python",
   "name": "python3"
  },
  "language_info": {
   "codemirror_mode": {
    "name": "ipython",
    "version": 3
   },
   "file_extension": ".py",
   "mimetype": "text/x-python",
   "name": "python",
   "nbconvert_exporter": "python",
   "pygments_lexer": "ipython3",
   "version": "3.10.0"
  },
  "orig_nbformat": 4
 },
 "nbformat": 4,
 "nbformat_minor": 2
}
